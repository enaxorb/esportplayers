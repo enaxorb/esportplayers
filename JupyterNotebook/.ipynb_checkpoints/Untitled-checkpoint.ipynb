{
 "cells": [
  {
   "cell_type": "code",
   "execution_count": 6,
   "id": "dc1e5a53-0763-4c28-9dca-87e883e4248b",
   "metadata": {},
   "outputs": [],
   "source": [
    "%matplotlib inline\n",
    "\n",
    "from SPARQLWrapper import SPARQLWrapper, JSON, TURTLE, XML, RDFXML\n",
    "import pandas as pd\n",
    "\n",
    "import scipy.stats as stats\n",
    "\n",
    "import networkx as nx\n",
    "from networkx.algorithms import bipartite\n",
    "\n",
    "import matplotlib.pyplot as plt\n",
    "import matplotlib.patches as patches\n",
    "\n",
    "import numpy as np\n",
    "import seaborn as sns\n",
    "import math\n",
    "import os"
   ]
  },
  {
   "cell_type": "code",
   "execution_count": null,
   "id": "d3285f71-e1e1-42d9-bb4a-4752d57f5582",
   "metadata": {},
   "outputs": [],
   "source": [
    "### Librairies déjà installées avec Python\n",
    "import pprint\n",
    "import csv\n",
    "\n",
    "import sqlite3 as sql\n",
    "\n",
    "import time\n",
    "import datetime\n",
    "from dateutil import parser\n",
    "\n",
    "\n",
    "from shutil import copyfile"
   ]
  },
  {
   "cell_type": "code",
   "execution_count": null,
   "id": "826bab7a-76ef-461c-bd21-993aa427cf8c",
   "metadata": {},
   "outputs": [],
   "source": [
    "\n",
    "import sys\n",
    "from importlib import reload\n",
    "\n",
    "sys.path.insert(0, '..')\n",
    "sys.path.insert(0, '../..')\n",
    "\n",
    "\n",
    "import sparql_functions as spqf\n",
    "import network_analysis_functions as naf"
   ]
  },
  {
   "cell_type": "code",
   "execution_count": 7,
   "id": "c3a51c20-4058-4f4e-96ea-eee7a86f00fe",
   "metadata": {},
   "outputs": [],
   "source": [
    "endpoint = \"https://ag1zhv7l0xefmdtk.allegrograph.cloud/repositories/Esport\"\n",
    "\n",
    "query = \"\"\"\n",
    "PREFIX wd:      <http://www.wikidata.org/entity/>\n",
    "PREFIX wdt:     <http://www.wikidata.org/prop/direct/>\n",
    "PREFIX rdfs:    <http://www.w3.org/2000/01/rdf-schema#>\n",
    "PREFIX xsd:  <http://www.w3.org/2001/XMLSchema#>\n",
    "\n",
    "\n",
    "SELECT  ?item \n",
    "        (SAMPLE(STR(?itemLabel)) as ?itemLabel) \n",
    "        (MAX(?birthDate) as ?birthDate)  \n",
    "        (MAX(?country) as ?country)\n",
    "        ( GROUP_CONCAT(DISTINCT ?game; separator=\", \") AS ?games )\n",
    "        (GROUP_CONCAT(DISTINCT ?team;  separator=\", \") AS ?teams)\n",
    "        (MIN(?careerStart)                    AS ?careerStart)\n",
    "        (MAX(?twitchFollowers)                AS ?twitchFollowers)\n",
    "        (MAX(?competitionWon)                 AS ?competitionWon)\n",
    "WHERE {\n",
    "    GRAPH <https://github.com/enaxorb/esportplayers/blob/main/graphs/wikidata-imported-data.md> {        \n",
    "    ?item wdt:P569 ?birthDate;\n",
    "        wdt:P27 ?country;\n",
    "        wdt:P2416 ?game;\n",
    "    \n",
    "    OPTIONAL { ?item wdt:P54    ?team }\n",
    "    OPTIONAL { ?item wdt:P2031  ?careerStart }\n",
    "    OPTIONAL { ?item wdt:P8687  ?twitchFollowers }\n",
    "    OPTIONAL { ?item wdt:P2522  ?competitionWon }\n",
    "\n",
    "    OPTIONAL {?item rdfs:label ?itemLabel .}\n",
    "  }  \n",
    "}\n",
    "GROUP BY ?item\n",
    "\"\"\""
   ]
  },
  {
   "cell_type": "code",
   "execution_count": null,
   "id": "3d3ab66d-a7f7-4865-8dfc-9421ef0fa6f0",
   "metadata": {},
   "outputs": [],
   "source": []
  }
 ],
 "metadata": {
  "kernelspec": {
   "display_name": "Python 3 (ipykernel)",
   "language": "python",
   "name": "python3"
  },
  "language_info": {
   "codemirror_mode": {
    "name": "ipython",
    "version": 3
   },
   "file_extension": ".py",
   "mimetype": "text/x-python",
   "name": "python",
   "nbconvert_exporter": "python",
   "pygments_lexer": "ipython3",
   "version": "3.12.5"
  }
 },
 "nbformat": 4,
 "nbformat_minor": 5
}
